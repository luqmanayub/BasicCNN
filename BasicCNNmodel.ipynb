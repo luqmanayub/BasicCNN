{
  "nbformat": 4,
  "nbformat_minor": 0,
  "metadata": {
    "colab": {
      "provenance": [],
      "toc_visible": true
    },
    "kernelspec": {
      "name": "python3",
      "display_name": "Python 3"
    },
    "language_info": {
      "name": "python"
    }
  },
  "cells": [
    {
      "cell_type": "code",
      "execution_count": null,
      "metadata": {
        "colab": {
          "base_uri": "https://localhost:8080/"
        },
        "id": "FCeNHmS7akpi",
        "outputId": "0af41cd3-38d3-4f7d-a086-51e3fd01c0b3"
      },
      "outputs": [
        {
          "output_type": "stream",
          "name": "stdout",
          "text": [
            "Mounted at /content/drive\n"
          ]
        }
      ],
      "source": [
        "from google.colab import drive\n",
        "drive.mount('/content/drive')"
      ]
    },
    {
      "cell_type": "code",
      "source": [
        "%cd /content/drive/MyDrive/data_assign_2"
      ],
      "metadata": {
        "colab": {
          "base_uri": "https://localhost:8080/"
        },
        "id": "3AncKF4UayEW",
        "outputId": "afc57056-1523-4d96-fd6e-d679abe9d6e3"
      },
      "execution_count": null,
      "outputs": [
        {
          "output_type": "stream",
          "name": "stdout",
          "text": [
            "/content/drive/MyDrive/data_assign_2\n"
          ]
        }
      ]
    },
    {
      "cell_type": "code",
      "source": [
        "import tensorflow as tf\n",
        "import pandas as pd\n",
        "from tensorflow.keras.models import Sequential\n",
        "from tensorflow.keras.layers import Conv2D, MaxPooling2D, Flatten, Dense, Dropout\n",
        "from tensorflow.keras.preprocessing.image import ImageDataGenerator\n",
        "from sklearn.model_selection import train_test_split\n",
        "import os"
      ],
      "metadata": {
        "id": "hknciyklbCzu"
      },
      "execution_count": null,
      "outputs": []
    },
    {
      "cell_type": "code",
      "source": [
        "# Define paths to your dataset\n",
        "dataset_path = 'hand_written_digits'\n",
        "\n",
        "# Define the image dimensions\n",
        "img_width, img_height = 100, 100"
      ],
      "metadata": {
        "id": "dG4yXNAJbMRo"
      },
      "execution_count": null,
      "outputs": []
    },
    {
      "cell_type": "code",
      "source": [
        "# Split the dataset into training and validation sets\n",
        "def split_dataset(dataset_path, validation_split=0.2):\n",
        "    classes = ['0_digits', '1_digits', '2_digits']\n",
        "\n",
        "    train_data = []\n",
        "    val_data = []\n",
        "\n",
        "    for class_name in classes:\n",
        "        class_path = os.path.join(dataset_path, class_name)\n",
        "        image_list = os.listdir(class_path)\n",
        "        train_images, val_images = train_test_split(image_list, test_size=validation_split, random_state=42)\n",
        "        train_data.extend([(os.path.join(class_path, img), class_name) for img in train_images])\n",
        "        val_data.extend([(os.path.join(class_path, img), class_name) for img in val_images])\n",
        "\n",
        "    return train_data, val_data\n",
        "\n",
        "train_data, val_data = split_dataset(dataset_path)"
      ],
      "metadata": {
        "id": "bj9UMVUeFAge"
      },
      "execution_count": null,
      "outputs": []
    },
    {
      "cell_type": "code",
      "source": [
        "# Data augmentation\n",
        "datagen = ImageDataGenerator(\n",
        "    rescale=1.0/255.0,\n",
        "    rotation_range=10,\n",
        "    width_shift_range=0.1,\n",
        "    height_shift_range=0.1,\n",
        "    shear_range=0.2,\n",
        "    zoom_range=0.2,\n",
        "    horizontal_flip=False,\n",
        "    vertical_flip=False\n",
        ")"
      ],
      "metadata": {
        "id": "UJryyUqYFDRF"
      },
      "execution_count": null,
      "outputs": []
    },
    {
      "cell_type": "code",
      "source": [
        "# Define the model\n",
        "model = Sequential()\n",
        "\n",
        "model.add(Conv2D(32, (5, 5), activation='relu', input_shape=(img_width, img_height, 3), padding='valid'))\n",
        "model.add(MaxPooling2D(pool_size=(2, 2)))\n",
        "\n",
        "model.add(Conv2D(64, (5, 5), activation='relu', padding='valid'))\n",
        "model.add(MaxPooling2D(pool_size=(2, 2)))\n",
        "\n",
        "model.add(Flatten())\n",
        "model.add(Dense(128, activation='relu'))\n",
        "model.add(Dropout(0.5))\n",
        "model.add(Dense(3, activation='softmax'))"
      ],
      "metadata": {
        "id": "_unXy-OUFFni"
      },
      "execution_count": null,
      "outputs": []
    },
    {
      "cell_type": "code",
      "source": [
        "# Compile the model\n",
        "model.compile(optimizer='adam', loss='categorical_crossentropy', metrics=['accuracy'])\n"
      ],
      "metadata": {
        "id": "5J5agaRWHgwD"
      },
      "execution_count": null,
      "outputs": []
    },
    {
      "cell_type": "code",
      "source": [
        "# Train the model\n",
        "batch_size = 32\n",
        "train_generator = datagen.flow_from_dataframe(dataframe=pd.DataFrame(train_data, columns=['filename', 'class']),\n",
        "                                              x_col='filename',\n",
        "                                              y_col='class',\n",
        "                                              target_size=(img_width, img_height),\n",
        "                                              batch_size=batch_size,\n",
        "                                              class_mode='categorical')\n",
        "val_generator = datagen.flow_from_dataframe(dataframe=pd.DataFrame(val_data, columns=['filename', 'class']),\n",
        "                                            x_col='filename',\n",
        "                                            y_col='class',\n",
        "                                            target_size=(img_width, img_height),\n",
        "                                            batch_size=batch_size,\n",
        "                                            class_mode='categorical')"
      ],
      "metadata": {
        "id": "xANJwY4ZH10H",
        "colab": {
          "base_uri": "https://localhost:8080/"
        },
        "outputId": "21600123-7b11-42cb-8bcd-f924d4a8be13"
      },
      "execution_count": null,
      "outputs": [
        {
          "output_type": "stream",
          "name": "stdout",
          "text": [
            "Found 3725 validated image filenames belonging to 3 classes.\n",
            "Found 933 validated image filenames belonging to 3 classes.\n"
          ]
        }
      ]
    },
    {
      "cell_type": "code",
      "source": [
        "# Train the model\n",
        "epochs = 10\n",
        "model.fit(train_generator, validation_data=val_generator, epochs=epochs)"
      ],
      "metadata": {
        "colab": {
          "base_uri": "https://localhost:8080/"
        },
        "id": "MX8tL83C0ZBn",
        "outputId": "28a04b48-b3b3-41ce-8b2f-2ddb9dfd12f5"
      },
      "execution_count": null,
      "outputs": [
        {
          "output_type": "stream",
          "name": "stdout",
          "text": [
            "Epoch 1/10\n",
            "117/117 [==============================] - 2019s 17s/step - loss: 0.3616 - accuracy: 0.8639 - val_loss: 0.1159 - val_accuracy: 0.9657\n",
            "Epoch 2/10\n",
            "117/117 [==============================] - 129s 1s/step - loss: 0.1101 - accuracy: 0.9678 - val_loss: 0.0783 - val_accuracy: 0.9775\n",
            "Epoch 3/10\n",
            "117/117 [==============================] - 129s 1s/step - loss: 0.0942 - accuracy: 0.9750 - val_loss: 0.0662 - val_accuracy: 0.9829\n",
            "Epoch 4/10\n",
            "117/117 [==============================] - 133s 1s/step - loss: 0.0704 - accuracy: 0.9801 - val_loss: 0.0457 - val_accuracy: 0.9839\n",
            "Epoch 5/10\n",
            "117/117 [==============================] - 119s 1s/step - loss: 0.0529 - accuracy: 0.9831 - val_loss: 0.0598 - val_accuracy: 0.9871\n",
            "Epoch 6/10\n",
            "117/117 [==============================] - 131s 1s/step - loss: 0.0595 - accuracy: 0.9823 - val_loss: 0.0396 - val_accuracy: 0.9904\n",
            "Epoch 7/10\n",
            "117/117 [==============================] - 117s 992ms/step - loss: 0.0552 - accuracy: 0.9836 - val_loss: 0.0516 - val_accuracy: 0.9829\n",
            "Epoch 8/10\n",
            "117/117 [==============================] - 129s 1s/step - loss: 0.0388 - accuracy: 0.9871 - val_loss: 0.0259 - val_accuracy: 0.9904\n",
            "Epoch 9/10\n",
            "117/117 [==============================] - 133s 1s/step - loss: 0.0504 - accuracy: 0.9858 - val_loss: 0.0264 - val_accuracy: 0.9882\n",
            "Epoch 10/10\n",
            "117/117 [==============================] - 136s 1s/step - loss: 0.0293 - accuracy: 0.9917 - val_loss: 0.0343 - val_accuracy: 0.9861\n"
          ]
        },
        {
          "output_type": "execute_result",
          "data": {
            "text/plain": [
              "<keras.src.callbacks.History at 0x78cc8e4c30d0>"
            ]
          },
          "metadata": {},
          "execution_count": 23
        }
      ]
    },
    {
      "cell_type": "code",
      "source": [
        "# Evaluate the model\n",
        "validation_accuracy = model.evaluate(val_generator)[1]\n",
        "print(f'Validation accuracy: {validation_accuracy}')"
      ],
      "metadata": {
        "colab": {
          "base_uri": "https://localhost:8080/"
        },
        "id": "P_OGmGTG0lvW",
        "outputId": "2622a966-e123-4d18-c985-f4413db0b124"
      },
      "execution_count": null,
      "outputs": [
        {
          "output_type": "stream",
          "name": "stdout",
          "text": [
            "30/30 [==============================] - 11s 358ms/step - loss: 0.0250 - accuracy: 0.9893\n",
            "Validation accuracy: 0.9892818927764893\n"
          ]
        }
      ]
    },
    {
      "cell_type": "code",
      "source": [],
      "metadata": {
        "id": "HV4k4eBDA7Z_"
      },
      "execution_count": null,
      "outputs": []
    }
  ]
}